{
 "cells": [
  {
   "cell_type": "code",
   "execution_count": 3,
   "metadata": {},
   "outputs": [],
   "source": [
    "import time\n",
    "from bs4 import BeautifulSoup\n",
    "import tqdm\n",
    "import re\n",
    "import json\n",
    "from collections import defaultdict\n",
    "import random\n",
    "import ssl"
   ]
  },
  {
   "cell_type": "markdown",
   "metadata": {},
   "source": [
    "## Helper functions"
   ]
  },
  {
   "cell_type": "code",
   "execution_count": 1,
   "metadata": {},
   "outputs": [],
   "source": [
    "user_agent_list = [\n",
    "   #Chrome\n",
    "    'Mozilla/5.0 (Windows NT 10.0; Win64; x64) AppleWebKit/537.36 (KHTML, like Gecko) Chrome/60.0.3112.113 Safari/537.36',\n",
    "    'Mozilla/5.0 (Windows NT 6.1; Win64; x64) AppleWebKit/537.36 (KHTML, like Gecko) Chrome/60.0.3112.90 Safari/537.36',\n",
    "    'Mozilla/5.0 (Windows NT 5.1; Win64; x64) AppleWebKit/537.36 (KHTML, like Gecko) Chrome/60.0.3112.90 Safari/537.36',\n",
    "    'Mozilla/5.0 (Windows NT 6.2; Win64; x64) AppleWebKit/537.36 (KHTML, like Gecko) Chrome/60.0.3112.90 Safari/537.36',\n",
    "    'Mozilla/5.0 (X11; Linux x86_64) AppleWebKit/537.36 (KHTML, like Gecko) Chrome/44.0.2403.157 Safari/537.36',\n",
    "    'Mozilla/5.0 (Windows NT 6.3; Win64; x64) AppleWebKit/537.36 (KHTML, like Gecko) Chrome/60.0.3112.113 Safari/537.36',\n",
    "    'Mozilla/5.0 (Windows NT 10.0; Win64; x64) AppleWebKit/537.36 (KHTML, like Gecko) Chrome/57.0.2987.133 Safari/537.36',\n",
    "    'Mozilla/5.0 (Windows NT 6.1; Win64; x64) AppleWebKit/537.36 (KHTML, like Gecko) Chrome/57.0.2987.133 Safari/537.36',\n",
    "    'Mozilla/5.0 (Windows NT 10.0; Win64; x64) AppleWebKit/537.36 (KHTML, like Gecko) Chrome/55.0.2883.87 Safari/537.36',\n",
    "    'Mozilla/5.0 (Windows NT 6.1; Win64; x64) AppleWebKit/537.36 (KHTML, like Gecko) Chrome/55.0.2883.87 Safari/537.36',\n",
    "    #Firefox\n",
    "    'Mozilla/4.0 (compatible; MSIE 9.0; Windows NT 6.1)',\n",
    "    'Mozilla/5.0 (Windows NT 6.1; WOW64; Trident/7.0; rv:11.0) like Gecko',\n",
    "    'Mozilla/5.0 (compatible; MSIE 9.0; Windows NT 6.1; WOW64; Trident/5.0)',\n",
    "    'Mozilla/5.0 (Windows NT 6.1; Trident/7.0; rv:11.0) like Gecko',\n",
    "    'Mozilla/5.0 (Windows NT 6.2; WOW64; Trident/7.0; rv:11.0) like Gecko',\n",
    "    'Mozilla/5.0 (Windows NT 10.0; WOW64; Trident/7.0; rv:11.0) like Gecko',\n",
    "    'Mozilla/5.0 (compatible; MSIE 9.0; Windows NT 6.0; Trident/5.0)',\n",
    "    'Mozilla/5.0 (Windows NT 6.3; WOW64; Trident/7.0; rv:11.0) like Gecko',\n",
    "    'Mozilla/5.0 (compatible; MSIE 9.0; Windows NT 6.1; Trident/5.0)',\n",
    "    'Mozilla/5.0 (Windows NT 6.1; Win64; x64; Trident/7.0; rv:11.0) like Gecko',\n",
    "    'Mozilla/5.0 (compatible; MSIE 10.0; Windows NT 6.1; WOW64; Trident/6.0)',\n",
    "    'Mozilla/5.0 (compatible; MSIE 10.0; Windows NT 6.1; Trident/6.0)',\n",
    "    'Mozilla/4.0 (compatible; MSIE 8.0; Windows NT 5.1; Trident/4.0; .NET CLR 2.0.50727; .NET CLR 3.0.4506.2152; .NET CLR 3.5.30729)'\n",
    "]\n",
    "\n",
    "def get_soup(url):\n",
    "    html = requests.get(url, headers={\"User-Agent\": random.choice(user_agent_list)}).text\n",
    "    soup = BeautifulSoup(html, \"html.parser\")\n",
    "    return soup\n",
    "\n",
    "def get_companies(url):\n",
    "    soup = get_soup(url).tbody\n",
    "    tags = soup('tr')\n",
    "    companies = [tag.find_all('a')[1].text for tag in tags]\n",
    "    return companies"
   ]
  },
  {
   "cell_type": "markdown",
   "metadata": {},
   "source": [
    "## Create SSL Context"
   ]
  },
  {
   "cell_type": "code",
   "execution_count": 5,
   "metadata": {},
   "outputs": [],
   "source": [
    "ctx = ssl.create_default_context()\n",
    "ctx.check_hostname = False\n",
    "ctx.verify_mode = ssl.CERT_NONE"
   ]
  },
  {
   "cell_type": "markdown",
   "metadata": {},
   "source": [
    "## Source Companies and Get URLs for Transcripts"
   ]
  },
  {
   "cell_type": "code",
   "execution_count": null,
   "metadata": {},
   "outputs": [],
   "source": [
    "companies = get_companies(\"http://www.slickcharts.com/sp500\")"
   ]
  },
  {
   "cell_type": "code",
   "execution_count": null,
   "metadata": {},
   "outputs": [],
   "source": [
    "urls = defaultdict(dict)\n",
    "for company in tqdm.tqdm_notebook(companies):\n",
    "    url = f\"http://www.seekingalpha.com/symbol/{company}/earnings/transcripts\"\n",
    "    soup = get_soup(url)\n",
    "    divs = soup.find_all(\"div\", class_ = \"symbol_article\")\n",
    "    for div in divs:\n",
    "        if \"Earnings Call Transcript\" in div.a.text:\n",
    "            url = \"http://www.seekingalpha.com\" + div.a.get(\"href\") + \"?part=single\"\n",
    "            title = div.a.text\n",
    "            period = re.search('Q[0-9] [0-9][0-9][0-9][0-9]', title)\n",
    "            if not period:\n",
    "                print(f\"{company} date not found\")\n",
    "                print(title)\n",
    "                continue\n",
    "            urls[company][period] = url\n",
    "    time.sleep(np.random.random()+4)"
   ]
  },
  {
   "cell_type": "code",
   "execution_count": null,
   "metadata": {},
   "outputs": [],
   "source": [
    "with open('transcript_urls.json', 'w') as out:\n",
    "    json.dump(new_urls, out, indent=2)"
   ]
  },
  {
   "cell_type": "markdown",
   "metadata": {},
   "source": [
    "## Start Scraping Actual Transcripts"
   ]
  },
  {
   "cell_type": "code",
   "execution_count": null,
   "metadata": {},
   "outputs": [],
   "source": [
    "with open('transcript_urls.json', 'r') as inp:\n",
    "    transcript_urls = json.load(inp)"
   ]
  },
  {
   "cell_type": "code",
   "execution_count": null,
   "metadata": {},
   "outputs": [],
   "source": [
    "companies = random.choices(list(transcript_urls.keys()), k=5)\n",
    "transcripts = []\n",
    "for company in companies:\n",
    "    quarters = list(transcript_urls[company].keys())\n",
    "    quarter = random.choice(quarters)\n",
    "    transcripts.append({\n",
    "        'company': company,\n",
    "        'quarter': quarter,\n",
    "        'url': transcript_urls[company][quarter]\n",
    "    })"
   ]
  },
  {
   "cell_type": "markdown",
   "metadata": {},
   "source": [
    "## Create Collection in Postman"
   ]
  },
  {
   "cell_type": "code",
   "execution_count": null,
   "metadata": {},
   "outputs": [],
   "source": [
    "items = []\n",
    "for transcript in transcripts:\n",
    "    item = {\n",
    "        'name': transcript['company'] + ' ' + transcript['quarter'],\n",
    "        'protocolProfileBehavior': {'disableBodyPruning': True},\n",
    "        'request': {'method': 'GET',\n",
    "            'header': [],\n",
    "            'url': {\n",
    "                'raw': transcript['url'],\n",
    "                'protocol': 'https',\n",
    "                'host': ['seekingalpha', 'com'],\n",
    "                'path': ['article'] + transcript['url'].split('/article/')[1].split('?')[0].split('/'),\n",
    "                'query': [{'key': 'part', 'value': 'single'}]\n",
    "            }\n",
    "        },\n",
    "        'response': []\n",
    "    }\n",
    "    items.append(item)"
   ]
  },
  {
   "cell_type": "code",
   "execution_count": null,
   "metadata": {},
   "outputs": [],
   "source": [
    "collection_body = {'collection': {'info': {'_postman_id': 'c5147b08-af9f-4ea3-b8b0-b04984c8a075',\n",
    "   'name': 'Write Responses To File',\n",
    "   'description': \"This collection makes it easy for users who want to write the response of each request to a file.\\nThis can be extended to write anything for eg. meta information or value of variables being used.\\n\\n\\nThis project is using a powerful feature built in postman called as `pm.sendRequest`, the docs for which can be found here: https://www.getpostman.com/docs/v6/postman/scripts/postman_sandbox_api_reference#pmsendrequest\\n\\n\\n## Requirements\\nTo work with this script, a local server is required.\\nYou can choose to write your own local server or edit the one provided below as per your needs.\\n\\n## Steps To Use\\n1. Put all the requests you want to write the responses for, under this collection.\\n \\n2. Clone the following repository to your machine - https://github.com/sivcan/ResponseToFile-Postman or use the following command - `git clone https://github.com/sivcan/ResponseToFile-Postman`\\n\\n3. Navigate into the directory and install the dependencies. Use the following command: `npm i` \\n\\n4. Run the local server. Use the following command: `node script.js`\\n\\n5. Now, the responses for every request which is a part of this collection will be written to the `Responses` folder inside the project repo.\\nYou can modify the local server's code to change the file location.\\n\\n5. Run your requests through builder / run through collection runner and store your data locally. \\n\\n\\nYou can modify the script and the local server to support more data formats / data that you want to write to the file.\\n\\n## Additionally\\nInstead of moving each request under this collection, you can copy the script from the `Tests` tab of this collection to the `Tests` tab of any request or even a specific folder.\\n\\n**Note:** To access the `Tests` script of this collection:\\n1. You need to `Right Click` the `Write Responses To File` collection in the sidebar.\\n2. Click on `Edit`\\n3. Go to `Tests` tab.\\n\\nThen you can send that particular request / requests under a folder for which the data needs to be written.\\n\\n## File Extensions\\nYou can also modify the **extension** of the file.\\n\\n**Example:**\\nIncase you want to write CSV data to a file, all you need to do is change the `fileExtension` property in the `Tests` script to `csv`.\",\n",
    "   'schema': 'https://schema.getpostman.com/json/collection/v2.1.0/collection.json'},\n",
    "  'item': items,\n",
    "  'event': [{'listen': 'prerequest',\n",
    "    'script': {'id': '046bd3de-4c08-4521-8aaa-f94ebb58c57e',\n",
    "     'type': 'text/javascript',\n",
    "     'exec': ['']}},\n",
    "   {'listen': 'test',\n",
    "    'script': {'id': 'ad202c49-0ed3-41c5-a627-80da06478953',\n",
    "     'type': 'text/javascript',\n",
    "     'exec': ['// The data to be written to file',\n",
    "      'let dataToFile = {',\n",
    "      '    requestName: request.name || request.url,',\n",
    "      \"    fileExtension: 'json',\",\n",
    "      '    responseData: pm.response.text()',\n",
    "      '};',\n",
    "      '',\n",
    "      'pm.sendRequest({',\n",
    "      \"    url: 'http://localhost:3000/write',\",\n",
    "      \"    method: 'POST',\",\n",
    "      \"    header: 'Content-Type:application/json',\",\n",
    "      '    body: {',\n",
    "      \"        mode: 'raw',\",\n",
    "      '        raw: JSON.stringify(dataToFile)',\n",
    "      '    }',\n",
    "      '}, function(err, res) {',\n",
    "      '    console.log(res);',\n",
    "      '});']}}]}}"
   ]
  },
  {
   "cell_type": "code",
   "execution_count": null,
   "metadata": {},
   "outputs": [],
   "source": [
    "def get(url):\n",
    "    return requests.get(url, headers={'X-Api-Key': api_key})\n",
    "def put(url, body):\n",
    "    return requests.put(url, headers={'X-Api-Key': api_key, 'Content-Type': 'application/json'}, data=body)"
   ]
  },
  {
   "cell_type": "code",
   "execution_count": null,
   "metadata": {},
   "outputs": [],
   "source": [
    "api_key = '<PASTE YOUR API KEY HERE>'\n",
    "r = get('https://api.getpostman.com/collections').json()\n",
    "earnings_collection_id = r['collections'][0]['id']"
   ]
  },
  {
   "cell_type": "markdown",
   "metadata": {},
   "source": [
    "## Push new collection to Postman"
   ]
  },
  {
   "cell_type": "code",
   "execution_count": null,
   "metadata": {},
   "outputs": [],
   "source": [
    "r = put(f'https://api.getpostman.com/collections/{earnings_collection_id}', json.dumps(collection_body))"
   ]
  },
  {
   "cell_type": "code",
   "execution_count": null,
   "metadata": {},
   "outputs": [],
   "source": []
  }
 ],
 "metadata": {
  "kernelspec": {
   "display_name": "Python 3",
   "language": "python",
   "name": "python3"
  },
  "language_info": {
   "codemirror_mode": {
    "name": "ipython",
    "version": 3
   },
   "file_extension": ".py",
   "mimetype": "text/x-python",
   "name": "python",
   "nbconvert_exporter": "python",
   "pygments_lexer": "ipython3",
   "version": "3.7.1"
  }
 },
 "nbformat": 4,
 "nbformat_minor": 2
}
